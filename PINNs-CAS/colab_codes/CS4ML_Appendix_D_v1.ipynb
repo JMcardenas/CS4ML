{
  "nbformat": 4,
  "nbformat_minor": 0,
  "metadata": {
    "colab": {
      "provenance": [],
      "gpuType": "A100",
      "machine_shape": "hm"
    },
    "kernelspec": {
      "name": "python3",
      "display_name": "Python 3"
    },
    "language_info": {
      "name": "python"
    },
    "accelerator": "GPU",
    "gpuClass": "standard"
  },
  "cells": [
    {
      "cell_type": "code",
      "execution_count": null,
      "metadata": {
        "id": "fnGsIMKl1rHp"
      },
      "outputs": [],
      "source": [
        "#0. # unzip folders \n",
        "!unzip /content/colab_codes.zip\n",
        "!unzip /content/colab_data.zip\n",
        "\n",
        "#1. Install packages  \n",
        "!python -m pip install hdf5storage --user\n",
        "\n",
        "#2. Import packages\n",
        "import time, os\n",
        " \n",
        "# choose where you want your project files to be saved\n",
        "project_folder = \"/content/colab_codes/\"\n",
        "\n",
        "def create_and_set_working_directory(project_folder):\n",
        "    # check if your project folder exists. if not, it will be created.\n",
        "    if os.path.isdir(project_folder) == False:\n",
        "        os.mkdir(project_folder)\n",
        "        print(project_folder + ' did not exist but was created.')\n",
        "\n",
        "    # change the OS to use your project folder as the working directory\n",
        "    os.chdir(project_folder)\n",
        "\n",
        "    # create a test file to make sure it shows up in the right place\n",
        "    #!touch 'new_file_in_working_directory.txt'\n",
        "    print('\\nYour working directory was changed to ' + project_folder + \\\n",
        "            \"\\n\\nAn empty text file was created there. You can also run !pwd to confirm the current working directory.\" )\n",
        "\n",
        "create_and_set_working_directory(project_folder) \n",
        "\n",
        "#------------------------------------------------------------------------------#\n",
        "# Run : 1. train | 2. extract remaining data  | 3. zip colab_results/\n",
        "#------------------------------------------------------------------------------#\n",
        "!pwd\n",
        "start = time.time()\n",
        "\n",
        "# Figure 3 Main paper \n",
        "for i in range(2): \n",
        "    if i == 0:\n",
        "        # Train \n",
        "        !bash batch_train_fig_3.sh\n",
        "    else:\n",
        "        # test over plot data\n",
        "        !bash batch_test_fig_3.sh     \n",
        "     \n",
        "end = time.time()\n",
        "print('Task completed in: ' ,str((end - start)/60) ,'minutes' )\n",
        "#------------------------------------------------------------------------------#\n",
        "# Save data as .zip\n",
        "!zip -r /content/colab_results.zip /content/colab_results\n"
      ]
    }
  ]
}